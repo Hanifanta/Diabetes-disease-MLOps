{
 "cells": [
  {
   "cell_type": "markdown",
   "metadata": {},
   "source": [
    "# Import library yang dibutuhkan"
   ]
  },
  {
   "cell_type": "code",
   "execution_count": 4,
   "metadata": {},
   "outputs": [],
   "source": [
    "import os\n",
    "from tfx.orchestration.beam.beam_dag_runner import BeamDagRunner\n",
    "from modules import components, pipeline"
   ]
  },
  {
   "cell_type": "markdown",
   "metadata": {},
   "source": [
    "# Set variabel"
   ]
  },
  {
   "cell_type": "code",
   "execution_count": 5,
   "metadata": {},
   "outputs": [],
   "source": [
    "PIPELANE_NAME = \"diabetes-disease-pipeline\"\n",
    "\n",
    "# Pipeline inputs\n",
    "DATA_ROOT = \"data\"\n",
    "TRANSFORM_MODULE_FILE = \"modules/transform.py\"\n",
    "TUNER_MODULE_FILE = \"modules/tuner.py\"\n",
    "TRAINER_MODULE_FILE = \"modules/trainer.py\"\n",
    "\n",
    "# Pipeline outputs\n",
    "OUTPUT_BASE = \"outputs\"\n",
    "\n",
    "serving_model_dir = os.path.join(OUTPUT_BASE, \"serving_model\")\n",
    "pipeline_root = os.path.join(OUTPUT_BASE, PIPELANE_NAME)\n",
    "metadata_path = os.path.join(pipeline_root, \"metadata.sqlite\")"
   ]
  },
  {
   "cell_type": "markdown",
   "metadata": {},
   "source": [
    "# Menjalankan ML Pipeline"
   ]
  },
  {
   "cell_type": "code",
   "execution_count": 6,
   "metadata": {},
   "outputs": [
    {
     "name": "stdout",
     "output_type": "stream",
     "text": [
      "running bdist_wheel\n",
      "running build\n",
      "running build_py\n",
      "creating build\n",
      "creating build/lib\n",
      "copying trainer.py -> build/lib\n",
      "copying pipeline.py -> build/lib\n",
      "copying transform.py -> build/lib\n",
      "copying components.py -> build/lib\n",
      "copying tuner.py -> build/lib\n",
      "installing to /tmp/tmpsjxyq3qk\n",
      "running install\n",
      "running install_lib\n",
      "copying build/lib/trainer.py -> /tmp/tmpsjxyq3qk\n",
      "copying build/lib/pipeline.py -> /tmp/tmpsjxyq3qk\n",
      "copying build/lib/transform.py -> /tmp/tmpsjxyq3qk\n",
      "copying build/lib/components.py -> /tmp/tmpsjxyq3qk\n",
      "copying build/lib/tuner.py -> /tmp/tmpsjxyq3qk\n",
      "running install_egg_info\n",
      "running egg_info\n",
      "creating tfx_user_code_Transform.egg-info\n",
      "writing tfx_user_code_Transform.egg-info/PKG-INFO\n",
      "writing dependency_links to tfx_user_code_Transform.egg-info/dependency_links.txt\n",
      "writing top-level names to tfx_user_code_Transform.egg-info/top_level.txt\n",
      "writing manifest file 'tfx_user_code_Transform.egg-info/SOURCES.txt'\n",
      "reading manifest file 'tfx_user_code_Transform.egg-info/SOURCES.txt'\n",
      "writing manifest file 'tfx_user_code_Transform.egg-info/SOURCES.txt'\n",
      "Copying tfx_user_code_Transform.egg-info to /tmp/tmpsjxyq3qk/tfx_user_code_Transform-0.0+8f10e736f5f12908388f2a9152d38d388ee3600783cbcda9b23787bd10b2ea0e.egg-info\n",
      "running install_scripts\n",
      "creating /tmp/tmpsjxyq3qk/tfx_user_code_Transform-0.0+8f10e736f5f12908388f2a9152d38d388ee3600783cbcda9b23787bd10b2ea0e.dist-info/WHEEL\n",
      "creating '/tmp/tmp1aqw12sk/tfx_user_code_Transform-0.0+8f10e736f5f12908388f2a9152d38d388ee3600783cbcda9b23787bd10b2ea0e-py3-none-any.whl' and adding '/tmp/tmpsjxyq3qk' to it\n",
      "adding 'components.py'\n",
      "adding 'pipeline.py'\n",
      "adding 'trainer.py'\n",
      "adding 'transform.py'\n",
      "adding 'tuner.py'\n",
      "adding 'tfx_user_code_Transform-0.0+8f10e736f5f12908388f2a9152d38d388ee3600783cbcda9b23787bd10b2ea0e.dist-info/METADATA'\n",
      "adding 'tfx_user_code_Transform-0.0+8f10e736f5f12908388f2a9152d38d388ee3600783cbcda9b23787bd10b2ea0e.dist-info/WHEEL'\n",
      "adding 'tfx_user_code_Transform-0.0+8f10e736f5f12908388f2a9152d38d388ee3600783cbcda9b23787bd10b2ea0e.dist-info/top_level.txt'\n",
      "adding 'tfx_user_code_Transform-0.0+8f10e736f5f12908388f2a9152d38d388ee3600783cbcda9b23787bd10b2ea0e.dist-info/RECORD'\n",
      "removing /tmp/tmpsjxyq3qk\n"
     ]
    },
    {
     "name": "stderr",
     "output_type": "stream",
     "text": [
      "/home/hanifanta/Documents/Kampus Merdeka Studi Independent/MLOps/a443-MLOps-ML-Pipeline/pipeline/lib/python3.8/site-packages/setuptools/command/install.py:34: SetuptoolsDeprecationWarning: setup.py install is deprecated. Use build and pip and other standards-based tools.\n",
      "  warnings.warn(\n"
     ]
    },
    {
     "name": "stdout",
     "output_type": "stream",
     "text": [
      "running bdist_wheel\n",
      "running build\n",
      "running build_py\n",
      "creating build\n",
      "creating build/lib\n",
      "copying trainer.py -> build/lib\n",
      "copying pipeline.py -> build/lib\n",
      "copying transform.py -> build/lib\n",
      "copying components.py -> build/lib\n",
      "copying tuner.py -> build/lib\n",
      "installing to /tmp/tmps14457ae\n",
      "running install\n",
      "running install_lib\n",
      "copying build/lib/trainer.py -> /tmp/tmps14457ae\n",
      "copying build/lib/pipeline.py -> /tmp/tmps14457ae\n",
      "copying build/lib/transform.py -> /tmp/tmps14457ae\n",
      "copying build/lib/components.py -> /tmp/tmps14457ae\n",
      "copying build/lib/tuner.py -> /tmp/tmps14457ae\n",
      "running install_egg_info\n",
      "running egg_info\n",
      "creating tfx_user_code_Tuner.egg-info\n",
      "writing tfx_user_code_Tuner.egg-info/PKG-INFO\n",
      "writing dependency_links to tfx_user_code_Tuner.egg-info/dependency_links.txt\n",
      "writing top-level names to tfx_user_code_Tuner.egg-info/top_level.txt\n",
      "writing manifest file 'tfx_user_code_Tuner.egg-info/SOURCES.txt'\n",
      "reading manifest file 'tfx_user_code_Tuner.egg-info/SOURCES.txt'\n",
      "writing manifest file 'tfx_user_code_Tuner.egg-info/SOURCES.txt'\n",
      "Copying tfx_user_code_Tuner.egg-info to /tmp/tmps14457ae/tfx_user_code_Tuner-0.0+8f10e736f5f12908388f2a9152d38d388ee3600783cbcda9b23787bd10b2ea0e.egg-info\n",
      "running install_scripts\n",
      "creating /tmp/tmps14457ae/tfx_user_code_Tuner-0.0+8f10e736f5f12908388f2a9152d38d388ee3600783cbcda9b23787bd10b2ea0e.dist-info/WHEEL\n",
      "creating '/tmp/tmpfm83q88v/tfx_user_code_Tuner-0.0+8f10e736f5f12908388f2a9152d38d388ee3600783cbcda9b23787bd10b2ea0e-py3-none-any.whl' and adding '/tmp/tmps14457ae' to it\n",
      "adding 'components.py'\n",
      "adding 'pipeline.py'\n",
      "adding 'trainer.py'\n",
      "adding 'transform.py'\n",
      "adding 'tuner.py'\n",
      "adding 'tfx_user_code_Tuner-0.0+8f10e736f5f12908388f2a9152d38d388ee3600783cbcda9b23787bd10b2ea0e.dist-info/METADATA'\n",
      "adding 'tfx_user_code_Tuner-0.0+8f10e736f5f12908388f2a9152d38d388ee3600783cbcda9b23787bd10b2ea0e.dist-info/WHEEL'\n",
      "adding 'tfx_user_code_Tuner-0.0+8f10e736f5f12908388f2a9152d38d388ee3600783cbcda9b23787bd10b2ea0e.dist-info/top_level.txt'\n",
      "adding 'tfx_user_code_Tuner-0.0+8f10e736f5f12908388f2a9152d38d388ee3600783cbcda9b23787bd10b2ea0e.dist-info/RECORD'\n",
      "removing /tmp/tmps14457ae\n"
     ]
    },
    {
     "name": "stderr",
     "output_type": "stream",
     "text": [
      "/home/hanifanta/Documents/Kampus Merdeka Studi Independent/MLOps/a443-MLOps-ML-Pipeline/pipeline/lib/python3.8/site-packages/setuptools/command/install.py:34: SetuptoolsDeprecationWarning: setup.py install is deprecated. Use build and pip and other standards-based tools.\n",
      "  warnings.warn(\n"
     ]
    },
    {
     "name": "stdout",
     "output_type": "stream",
     "text": [
      "running bdist_wheel\n",
      "running build\n",
      "running build_py\n",
      "creating build\n",
      "creating build/lib\n",
      "copying trainer.py -> build/lib\n",
      "copying pipeline.py -> build/lib\n",
      "copying transform.py -> build/lib\n",
      "copying components.py -> build/lib\n",
      "copying tuner.py -> build/lib\n",
      "installing to /tmp/tmpw_ftz6t1\n",
      "running install\n",
      "running install_lib\n",
      "copying build/lib/trainer.py -> /tmp/tmpw_ftz6t1\n",
      "copying build/lib/pipeline.py -> /tmp/tmpw_ftz6t1\n",
      "copying build/lib/transform.py -> /tmp/tmpw_ftz6t1\n",
      "copying build/lib/components.py -> /tmp/tmpw_ftz6t1\n",
      "copying build/lib/tuner.py -> /tmp/tmpw_ftz6t1\n",
      "running install_egg_info\n",
      "running egg_info\n",
      "creating tfx_user_code_Trainer.egg-info\n",
      "writing tfx_user_code_Trainer.egg-info/PKG-INFO\n",
      "writing dependency_links to tfx_user_code_Trainer.egg-info/dependency_links.txt\n",
      "writing top-level names to tfx_user_code_Trainer.egg-info/top_level.txt\n",
      "writing manifest file 'tfx_user_code_Trainer.egg-info/SOURCES.txt'\n",
      "reading manifest file 'tfx_user_code_Trainer.egg-info/SOURCES.txt'\n",
      "writing manifest file 'tfx_user_code_Trainer.egg-info/SOURCES.txt'\n",
      "Copying tfx_user_code_Trainer.egg-info to /tmp/tmpw_ftz6t1/tfx_user_code_Trainer-0.0+8f10e736f5f12908388f2a9152d38d388ee3600783cbcda9b23787bd10b2ea0e.egg-info\n",
      "running install_scripts\n",
      "creating /tmp/tmpw_ftz6t1/tfx_user_code_Trainer-0.0+8f10e736f5f12908388f2a9152d38d388ee3600783cbcda9b23787bd10b2ea0e.dist-info/WHEEL\n",
      "creating '/tmp/tmp3h50qcex/tfx_user_code_Trainer-0.0+8f10e736f5f12908388f2a9152d38d388ee3600783cbcda9b23787bd10b2ea0e-py3-none-any.whl' and adding '/tmp/tmpw_ftz6t1' to it\n",
      "adding 'components.py'\n",
      "adding 'pipeline.py'\n",
      "adding 'trainer.py'\n",
      "adding 'transform.py'\n",
      "adding 'tuner.py'\n",
      "adding 'tfx_user_code_Trainer-0.0+8f10e736f5f12908388f2a9152d38d388ee3600783cbcda9b23787bd10b2ea0e.dist-info/METADATA'\n",
      "adding 'tfx_user_code_Trainer-0.0+8f10e736f5f12908388f2a9152d38d388ee3600783cbcda9b23787bd10b2ea0e.dist-info/WHEEL'\n",
      "adding 'tfx_user_code_Trainer-0.0+8f10e736f5f12908388f2a9152d38d388ee3600783cbcda9b23787bd10b2ea0e.dist-info/top_level.txt'\n",
      "adding 'tfx_user_code_Trainer-0.0+8f10e736f5f12908388f2a9152d38d388ee3600783cbcda9b23787bd10b2ea0e.dist-info/RECORD'\n",
      "removing /tmp/tmpw_ftz6t1\n"
     ]
    },
    {
     "name": "stderr",
     "output_type": "stream",
     "text": [
      "/home/hanifanta/Documents/Kampus Merdeka Studi Independent/MLOps/a443-MLOps-ML-Pipeline/pipeline/lib/python3.8/site-packages/setuptools/command/install.py:34: SetuptoolsDeprecationWarning: setup.py install is deprecated. Use build and pip and other standards-based tools.\n",
      "  warnings.warn(\n",
      "WARNING:absl:ArtifactQuery.property_predicate is not supported.\n",
      "WARNING:absl:ArtifactQuery.property_predicate is not supported.\n",
      "WARNING:absl:ArtifactQuery.property_predicate is not supported.\n",
      "WARNING:absl:ArtifactQuery.property_predicate is not supported.\n",
      "WARNING:absl:ArtifactQuery.property_predicate is not supported.\n",
      "WARNING:absl:ArtifactQuery.property_predicate is not supported.\n",
      "WARNING:absl:ArtifactQuery.property_predicate is not supported.\n",
      "WARNING:absl:ArtifactQuery.property_predicate is not supported.\n",
      "WARNING:absl:ArtifactQuery.property_predicate is not supported.\n",
      "WARNING:absl:ArtifactQuery.property_predicate is not supported.\n",
      "WARNING:absl:ArtifactQuery.property_predicate is not supported.\n",
      "WARNING:absl:ArtifactQuery.property_predicate is not supported.\n",
      "WARNING:absl:ArtifactQuery.property_predicate is not supported.\n",
      "WARNING:absl:ArtifactQuery.property_predicate is not supported.\n",
      "WARNING:absl:ArtifactQuery.property_predicate is not supported.\n",
      "WARNING:absl:ArtifactQuery.property_predicate is not supported.\n",
      "WARNING:absl:ArtifactQuery.property_predicate is not supported.\n",
      "WARNING:absl:ArtifactQuery.property_predicate is not supported.\n",
      "WARNING:absl:ArtifactQuery.property_predicate is not supported.\n"
     ]
    }
   ],
   "source": [
    "components_args = {\n",
    "    \"data_dir\": DATA_ROOT,\n",
    "    \"trainer_module\": TRAINER_MODULE_FILE,\n",
    "    \"tuner_module\": TUNER_MODULE_FILE,\n",
    "    \"transform_module\": TRANSFORM_MODULE_FILE,\n",
    "    \"train_steps\": 1000,\n",
    "    \"eval_steps\": 800,\n",
    "    \"serving_model_dir\": serving_model_dir,\n",
    "}\n",
    "\n",
    "components = components.init_components(components_args)\n",
    "\n",
    "pipeline = pipeline.init_pipeline(\n",
    "    pipeline_root, \n",
    "    PIPELANE_NAME, \n",
    "    metadata_path, \n",
    "    components\n",
    ")\n",
    "BeamDagRunner().run(pipeline)"
   ]
  }
 ],
 "metadata": {
  "kernelspec": {
   "display_name": "pipeline",
   "language": "python",
   "name": "python3"
  },
  "language_info": {
   "codemirror_mode": {
    "name": "ipython",
    "version": 3
   },
   "file_extension": ".py",
   "mimetype": "text/x-python",
   "name": "python",
   "nbconvert_exporter": "python",
   "pygments_lexer": "ipython3",
   "version": "3.8.16"
  },
  "orig_nbformat": 4,
  "vscode": {
   "interpreter": {
    "hash": "d9db794239e53b9e229ec50a789692379af57c0a0010cee9c23ba41c71de6ad3"
   }
  }
 },
 "nbformat": 4,
 "nbformat_minor": 2
}
